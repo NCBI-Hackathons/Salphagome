{
 "cells": [
  {
   "cell_type": "code",
   "execution_count": 30,
   "metadata": {},
   "outputs": [
    {
     "name": "stdout",
     "output_type": "stream",
     "text": [
      "Requirement already satisfied: biopython in c:\\users\\drmn\\anaconda3\\lib\\site-packages (1.78)Note: you may need to restart the kernel to use updated packages.\n",
      "Requirement already satisfied: numpy in c:\\users\\drmn\\anaconda3\\lib\\site-packages (from biopython) (1.18.5)\n",
      "\n"
     ]
    }
   ],
   "source": [
    "pip install biopython"
   ]
  },
  {
   "cell_type": "code",
   "execution_count": 31,
   "metadata": {},
   "outputs": [],
   "source": [
    "# Methods in the following modules are needed for a successful run of Salphagome\n",
    "import glob\n",
    "import pandas as pd\n",
    "import re\n",
    "from Bio import Entrez\n",
    "import time\n",
    "import xml.etree.ElementTree as ET\n",
    "import seaborn as sns; sns.set()\n",
    "import copy\n",
    "import numpy as np\n",
    "import subprocess\n",
    "from Bio import SeqIO"
   ]
  },
  {
   "cell_type": "code",
   "execution_count": 32,
   "metadata": {},
   "outputs": [],
   "source": [
    "# Edit the locations below to the location of your results folders\n",
    "files_typhi = glob.glob('typhi_results/*species.txt')\n",
    "files_ptyphiA = glob.glob('ptyphia_results/*species.txt')\n",
    "\n",
    "location_of_fasta = 'databases/just_viruses/just_viruses.fasta'"
   ]
  },
  {
   "cell_type": "code",
   "execution_count": 33,
   "metadata": {},
   "outputs": [
    {
     "name": "stdout",
     "output_type": "stream",
     "text": [
      "Total Phages: 153\n"
     ]
    }
   ],
   "source": [
    "#List of sequences in the reference FASTA\n",
    "fasta_ids = []\n",
    "\n",
    "with open(location_of_fasta, \"r\") as handle:\n",
    "    for record in SeqIO.parse(handle, \"fasta\") :\n",
    "        fasta_ids.append(record.id)\n",
    "\n",
    "print(\"Total Phages: \" + str(len(fasta_ids)))"
   ]
  },
  {
   "cell_type": "code",
   "execution_count": 34,
   "metadata": {},
   "outputs": [],
   "source": [
    "# Make Master List\n",
    "master_list = []\n",
    "\n",
    "#Get read hit counts from control folder\n",
    "\n",
    "for file in files_typhi:\n",
    "    \n",
    "    name = str(file)\n",
    "    \n",
    "    list_of_seqs = copy.deepcopy(fasta_ids)\n",
    "    \n",
    "    with open(file, \"r\") as ifile:\n",
    "        for line in ifile:\n",
    "            \n",
    "            data = line.strip().split(' ')\n",
    "            data = data+[name, 'typhi']\n",
    "            master_list.append(data)\n",
    "            \n",
    "    for seq in list_of_seqs:\n",
    "        \n",
    "        data = [0, seq, name, 'typhi']\n",
    "        \n",
    "        master_list.append(data)"
   ]
  },
  {
   "cell_type": "code",
   "execution_count": 35,
   "metadata": {},
   "outputs": [],
   "source": [
    "#Get read hit counts from disease folder\n",
    "\n",
    "for file in files_ptyphiA:\n",
    "    \n",
    "    list_of_seqs = copy.deepcopy(fasta_ids)\n",
    "    \n",
    "    name = str(file)\n",
    "    \n",
    "    with open(file, \"r\") as ifile:\n",
    "        \n",
    "        for line in ifile:\n",
    "            \n",
    "            data = line.strip().split(' ')\n",
    "            data = data+[name, 'ptyphia']\n",
    "            \n",
    "            list_of_seqs.remove(data[1])\n",
    "            \n",
    "            \n",
    "            master_list.append(data)\n",
    "\n",
    "    for seq in list_of_seqs:\n",
    "        \n",
    "        data = [0, seq, name, 'ptyphia']\n",
    "        \n",
    "        master_list.append(data)"
   ]
  },
  {
   "cell_type": "code",
   "execution_count": 36,
   "metadata": {},
   "outputs": [],
   "source": [
    "# Name items in our current dataframe.\n",
    "\n",
    "df = pd.DataFrame(columns=['count', 'seq', 'file', 'type'], data= master_list)"
   ]
  },
  {
   "cell_type": "code",
   "execution_count": 37,
   "metadata": {},
   "outputs": [],
   "source": [
    "# Function that gets accession Ids from the SRA.\n",
    "\n",
    "def get_srr_accession(df):\n",
    "    \"\"\"\n",
    "    Extract the SRR number from the file_location field of the dataframe.\n",
    "    \"\"\"\n",
    "    pattern = re.compile(r\"[SED]RR[0-9]+\")\n",
    "\n",
    "    file = df['file']\n",
    "\n",
    "    return re.search(pattern, file).group(0)"
   ]
  },
  {
   "cell_type": "code",
   "execution_count": 38,
   "metadata": {
    "scrolled": true
   },
   "outputs": [],
   "source": [
    "# Include accession Ids in our dataframe.\n",
    "\n",
    "df['acc'] = df.apply(get_srr_accession, axis=1)"
   ]
  },
  {
   "cell_type": "code",
   "execution_count": 39,
   "metadata": {},
   "outputs": [],
   "source": [
    "# Convert the counts to integer object.\n",
    "\n",
    "df['count'] = df['count'].astype(int)"
   ]
  },
  {
   "cell_type": "code",
   "execution_count": 40,
   "metadata": {},
   "outputs": [],
   "source": [
    "# Function that gets the spot counts and use for normalization of the data.\n",
    "\n",
    "def get_spot_count(df, email, max_errors):\n",
    "    \"\"\"\n",
    "    Use the Entrez API to get the spot (read) count for that SRR number.\n",
    "    \"\"\"\n",
    "\n",
    "    srr_acc = df['acc']\n",
    "    \n",
    "    # get SRR id\n",
    "    Entrez.email = email\n",
    "\n",
    "    error_count =0\n",
    "\n",
    "    while error_count < max_errors:\n",
    "\n",
    "        try:\n",
    "\n",
    "            handle = Entrez.esearch(db=\"sra\",term=srr_acc)\n",
    "\n",
    "            record = Entrez.read(handle)\n",
    "\n",
    "            handle.close()\n",
    "\n",
    "            srr_id = record[\"IdList\"][0]\n",
    "\n",
    "            break\n",
    "\n",
    "        except:\n",
    "\n",
    "            print ('error occured collecting ID ', srr_acc, error_count)\n",
    "\n",
    "            time.sleep(10)\n",
    "\n",
    "            error_count = error_count +1\n",
    "\n",
    "\n",
    "    # get SRR summary\n",
    "\n",
    "    error_count =0\n",
    "\n",
    "    while error_count < max_errors:\n",
    "\n",
    "        try:\n",
    "\n",
    "            handle = Entrez.esummary(db='sra', id=srr_id)\n",
    "\n",
    "            record = Entrez.read(handle)\n",
    "\n",
    "            handle.close()\n",
    "\n",
    "            my_xml = record[0]['Runs']\n",
    "\n",
    "            # Parse XML\n",
    "            xml_object = ET.fromstringlist([\"<root>\", my_xml, \"</root>\"])\n",
    "\n",
    "            # Get total_spots (reads)\n",
    "            for child in xml_object:\n",
    "\n",
    "                if child.attrib['acc'] == srr_acc:\n",
    "\n",
    "                    #print (srr_acc, child.attrib['total_spots'])\n",
    "\n",
    "                    return int(child.attrib['total_spots'])\n",
    "\n",
    "        except:\n",
    "\n",
    "            print ('error occured collecting spot count', srr_acc, error_count)\n",
    "\n",
    "            time.sleep(10)\n",
    "\n",
    "            error_count = error_count +1"
   ]
  },
  {
   "cell_type": "code",
   "execution_count": 41,
   "metadata": {},
   "outputs": [],
   "source": [
    "data2 = my_list = list(df['acc'].unique())\n",
    "\n",
    "spot_df = pd.DataFrame(data2, columns=['acc'])"
   ]
  },
  {
   "cell_type": "code",
   "execution_count": 42,
   "metadata": {},
   "outputs": [
    {
     "name": "stdout",
     "output_type": "stream",
     "text": [
      "          acc  spot_count\n",
      "0   DRR071000     1137918\n",
      "1   DRR071001      789639\n",
      "2   DRR071002      668472\n",
      "3   DRR071003      566361\n",
      "4  ERR2011049      702860\n"
     ]
    }
   ],
   "source": [
    "#Get spot count for each of the sequences\n",
    "\n",
    "spot_df['spot_count'] = spot_df.apply(get_spot_count, axis=1, args=['visiting.bioinformaticians@gmail.com', 3])\n",
    "print(spot_df.drop_duplicates(subset=['acc'], keep='last'))"
   ]
  },
  {
   "cell_type": "code",
   "execution_count": 43,
   "metadata": {},
   "outputs": [],
   "source": [
    "#Write Spot Dataframe to CSV file\n",
    "\n",
    "spot_df.to_csv('spot_map.csv')"
   ]
  },
  {
   "cell_type": "code",
   "execution_count": 44,
   "metadata": {},
   "outputs": [],
   "source": [
    "read_count_dict ={}\n",
    "\n",
    "for row in spot_df.iterrows():\n",
    "    read_count_dict[(row[1]['acc'])] = row[1]['spot_count']"
   ]
  },
  {
   "cell_type": "code",
   "execution_count": 45,
   "metadata": {},
   "outputs": [],
   "source": [
    "# Function that normalizes the data.\n",
    "\n",
    "def normalise(df):\n",
    "    \n",
    "    srr = df['acc']\n",
    "    \n",
    "    read_count = read_count_dict[srr]\n",
    "    \n",
    "    return read_count"
   ]
  },
  {
   "cell_type": "code",
   "execution_count": 46,
   "metadata": {},
   "outputs": [],
   "source": [
    "# Normalize the data.\n",
    "\n",
    "df['read_count'] = df.apply(normalise, axis=1)"
   ]
  },
  {
   "cell_type": "code",
   "execution_count": 47,
   "metadata": {
    "scrolled": true
   },
   "outputs": [
    {
     "data": {
      "text/html": [
       "<div>\n",
       "<style scoped>\n",
       "    .dataframe tbody tr th:only-of-type {\n",
       "        vertical-align: middle;\n",
       "    }\n",
       "\n",
       "    .dataframe tbody tr th {\n",
       "        vertical-align: top;\n",
       "    }\n",
       "\n",
       "    .dataframe thead th {\n",
       "        text-align: right;\n",
       "    }\n",
       "</style>\n",
       "<table border=\"1\" class=\"dataframe\">\n",
       "  <thead>\n",
       "    <tr style=\"text-align: right;\">\n",
       "      <th></th>\n",
       "      <th>count</th>\n",
       "      <th>seq</th>\n",
       "      <th>file</th>\n",
       "      <th>type</th>\n",
       "      <th>acc</th>\n",
       "      <th>read_count</th>\n",
       "    </tr>\n",
       "  </thead>\n",
       "  <tbody>\n",
       "    <tr>\n",
       "      <th>0</th>\n",
       "      <td>20647</td>\n",
       "      <td>NC_010463.1</td>\n",
       "      <td>typhi_results\\typhi_phages.DRR071000.sam.speci...</td>\n",
       "      <td>typhi</td>\n",
       "      <td>DRR071000</td>\n",
       "      <td>1137918</td>\n",
       "    </tr>\n",
       "    <tr>\n",
       "      <th>1</th>\n",
       "      <td>12323</td>\n",
       "      <td>NC_019488.1</td>\n",
       "      <td>typhi_results\\typhi_phages.DRR071000.sam.speci...</td>\n",
       "      <td>typhi</td>\n",
       "      <td>DRR071000</td>\n",
       "      <td>1137918</td>\n",
       "    </tr>\n",
       "    <tr>\n",
       "      <th>2</th>\n",
       "      <td>7853</td>\n",
       "      <td>NC_028699.1</td>\n",
       "      <td>typhi_results\\typhi_phages.DRR071000.sam.speci...</td>\n",
       "      <td>typhi</td>\n",
       "      <td>DRR071000</td>\n",
       "      <td>1137918</td>\n",
       "    </tr>\n",
       "    <tr>\n",
       "      <th>3</th>\n",
       "      <td>6990</td>\n",
       "      <td>NC_010393.1</td>\n",
       "      <td>typhi_results\\typhi_phages.DRR071000.sam.speci...</td>\n",
       "      <td>typhi</td>\n",
       "      <td>DRR071000</td>\n",
       "      <td>1137918</td>\n",
       "    </tr>\n",
       "    <tr>\n",
       "      <th>4</th>\n",
       "      <td>1712</td>\n",
       "      <td>NC_010392.1</td>\n",
       "      <td>typhi_results\\typhi_phages.DRR071000.sam.speci...</td>\n",
       "      <td>typhi</td>\n",
       "      <td>DRR071000</td>\n",
       "      <td>1137918</td>\n",
       "    </tr>\n",
       "  </tbody>\n",
       "</table>\n",
       "</div>"
      ],
      "text/plain": [
       "   count          seq                                               file  \\\n",
       "0  20647  NC_010463.1  typhi_results\\typhi_phages.DRR071000.sam.speci...   \n",
       "1  12323  NC_019488.1  typhi_results\\typhi_phages.DRR071000.sam.speci...   \n",
       "2   7853  NC_028699.1  typhi_results\\typhi_phages.DRR071000.sam.speci...   \n",
       "3   6990  NC_010393.1  typhi_results\\typhi_phages.DRR071000.sam.speci...   \n",
       "4   1712  NC_010392.1  typhi_results\\typhi_phages.DRR071000.sam.speci...   \n",
       "\n",
       "    type        acc  read_count  \n",
       "0  typhi  DRR071000     1137918  \n",
       "1  typhi  DRR071000     1137918  \n",
       "2  typhi  DRR071000     1137918  \n",
       "3  typhi  DRR071000     1137918  \n",
       "4  typhi  DRR071000     1137918  "
      ]
     },
     "execution_count": 47,
     "metadata": {},
     "output_type": "execute_result"
    }
   ],
   "source": [
    "#Print dataframe's first few lines\n",
    "\n",
    "df.head()"
   ]
  },
  {
   "cell_type": "code",
   "execution_count": 48,
   "metadata": {},
   "outputs": [],
   "source": [
    "def normalise_values(df):\n",
    "    \n",
    "    return (df['count'] / df['read_count']) * 1000000"
   ]
  },
  {
   "cell_type": "code",
   "execution_count": 49,
   "metadata": {},
   "outputs": [],
   "source": [
    "df['normalised_count'] = df.apply(normalise_values, axis=1)"
   ]
  },
  {
   "cell_type": "code",
   "execution_count": 50,
   "metadata": {},
   "outputs": [],
   "source": [
    "df.to_csv('typhi.ptyphi.comparison.csv')"
   ]
  },
  {
   "cell_type": "code",
   "execution_count": 51,
   "metadata": {},
   "outputs": [
    {
     "data": {
      "text/plain": [
       "<matplotlib.axes._subplots.AxesSubplot at 0x1682100db20>"
      ]
     },
     "execution_count": 51,
     "metadata": {},
     "output_type": "execute_result"
    },
    {
     "data": {
      "image/png": "[encoded data removed]",
      "text/plain": [
       "<Figure size 432x288 with 1 Axes>"
      ]
     },
     "metadata": {},
     "output_type": "display_data"
    }
   ],
   "source": [
    "sns.barplot(x='type', y='normalised_count', data=df)"
   ]
  },
  {
   "cell_type": "code",
   "execution_count": 52,
   "metadata": {},
   "outputs": [],
   "source": [
    "grouped = df.groupby(['type', 'seq']).mean()"
   ]
  },
  {
   "cell_type": "code",
   "execution_count": 37,
   "metadata": {},
   "outputs": [
    {
     "name": "stdout",
     "output_type": "stream",
     "text": [
      "\n",
      "NOTABLE PHAGE  COVERAGE\n",
      "NC_019488.1 :  89.5397\n",
      "NC_019545.1 :  68.1818\n",
      "NC_010392.1 :  58.427\n",
      "NC_018279.1 :  57.7778\n",
      "NC_010463.1 :  90.5455\n",
      "NC_002371.2 :  58.3333\n",
      "NC_004348.1 :  57.1429\n",
      "NC_017985.1 :  57.1429\n",
      "NC_010393.1 :  80.4511\n",
      "NC_028699.1 :  89.3939\n",
      "NC_010391.1 :  51.6129\n",
      "\n",
      "NOTABLE PHAGE  COVERAGE\n",
      "NC_031129.1 :  54.0984\n",
      "NC_030919.1 :  52.6316\n",
      "NC_019488.1 :  88.9362\n",
      "NC_019545.1 :  72.8814\n",
      "NC_005841.1 :  52.9412\n",
      "NC_010392.1 :  70.1493\n",
      "NC_011802.1 :  68.75\n",
      "NC_014900.1 :  63.1579\n",
      "NC_018279.1 :  62.5\n",
      "NC_010463.1 :  91.6981\n",
      "NC_018275.1 :  52.9412\n",
      "NC_004348.1 :  65.625\n",
      "NC_005340.1 :  55.5556\n",
      "NC_017985.1 :  80\n",
      "NC_010393.1 :  76.6917\n",
      "NC_028699.1 :  89.0052\n",
      "NC_031946.1 :  55\n",
      "\n",
      "NOTABLE PHAGE  COVERAGE\n",
      "NC_019488.1 :  90.9465\n",
      "NC_019545.1 :  69.1176\n",
      "NC_005841.1 :  58.8235\n",
      "NC_010392.1 :  58.3333\n",
      "NC_011802.1 :  57.1429\n",
      "NC_014900.1 :  56.5217\n",
      "NC_018279.1 :  63.4146\n",
      "NC_010463.1 :  92.1642\n",
      "NC_002371.2 :  53.5714\n",
      "NC_004348.1 :  63.8889\n",
      "NC_017985.1 :  53.3333\n",
      "NC_010393.1 :  74.4681\n",
      "NC_028699.1 :  89.0547\n",
      "\n",
      "NOTABLE PHAGE  COVERAGE\n",
      "NC_030919.1 :  57.6923\n",
      "NC_019488.1 :  90.6504\n",
      "NC_019545.1 :  68.2353\n",
      "NC_010392.1 :  70.4545\n",
      "NC_018279.1 :  53.7037\n",
      "NC_010463.1 :  91.8819\n",
      "NC_002371.2 :  60.6061\n",
      "NC_004348.1 :  58.6957\n",
      "NC_017985.1 :  60\n",
      "NC_010393.1 :  76.129\n",
      "NC_028699.1 :  90.8257\n",
      "NC_010391.1 :  51.0638\n",
      "NC_004313.1 :  51.2195\n",
      "NC_031946.1 :  55.5556\n",
      "\n",
      "NOTABLE PHAGE  COVERAGE\n",
      "NC_030919.1 :  52.1739\n",
      "NC_019488.1 :  90.2041\n",
      "NC_019545.1 :  77.7778\n",
      "NC_005841.1 :  52.6316\n",
      "NC_010392.1 :  56.5217\n",
      "NC_018843.1 :  95.5451\n",
      "NC_018279.1 :  52\n",
      "NC_010463.1 :  90.9091\n",
      "NC_017985.1 :  60\n",
      "NC_010393.1 :  76.6423\n",
      "NC_028699.1 :  85.6436\n",
      "NC_031946.1 :  54.5455\n",
      "\n",
      "NOTABLE PHAGE  COVERAGE\n",
      "NC_030919.1 :  78.5714\n",
      "NC_019488.1 :  90.7563\n",
      "NC_019545.1 :  77.9661\n",
      "NC_005841.1 :  66.6667\n",
      "NC_010392.1 :  59.2593\n",
      "NC_011802.1 :  55\n",
      "NC_014900.1 :  60\n",
      "NC_018279.1 :  70.2703\n",
      "NC_010463.1 :  92.0152\n",
      "NC_018275.1 :  61.1111\n",
      "NC_002371.2 :  56\n",
      "NC_004348.1 :  74.1935\n",
      "NC_017985.1 :  80\n",
      "NC_010393.1 :  77.5362\n",
      "NC_028699.1 :  89.3401\n",
      "NC_010391.1 :  53.3333\n",
      "NC_031946.1 :  66.6667\n",
      "\n",
      "NOTABLE PHAGE  COVERAGE\n",
      "NC_019488.1 :  90.3361\n",
      "NC_019545.1 :  67.6471\n",
      "NC_010392.1 :  60.2273\n",
      "NC_018279.1 :  55.3191\n",
      "NC_010463.1 :  90.8088\n",
      "NC_004348.1 :  61.1111\n",
      "NC_017985.1 :  61.5385\n",
      "NC_010393.1 :  78.6765\n",
      "NC_028699.1 :  86.6337\n",
      "\n"
     ]
    }
   ],
   "source": [
    "#\"then calculate the coverage\"\n",
    "\n",
    "COMMAND = '''for f in bedgraphs/*.bedgraph; do awk 'NR>1{if ($4 < 3) {mylo_phage[$1]++;} else {myhi_phage[$1]++;}} END {print \"\"; print \"NOTABLE PHAGE\", \" COVERAGE\"; {for (i in myhi_phage) if (mylo_phage[i] < myhi_phage[i]) print i, \": \", 100*myhi_phage[i]/(myhi_phage[i]+mylo_phage[i]);}}' $f; done'''\n",
    "\n",
    "(o,e) = subprocess.Popen(COMMAND, shell=True, stdout=subprocess.PIPE,stderr=subprocess.PIPE,universal_newlines=True).communicate()\n",
    "\n",
    "print(o)"
   ]
  },
  {
   "cell_type": "code",
   "execution_count": 38,
   "metadata": {},
   "outputs": [],
   "source": [
    "# import rpy2\n",
    "# %load_ext rpy2.ipython"
   ]
  },
  {
   "cell_type": "code",
   "execution_count": 56,
   "metadata": {},
   "outputs": [
    {
     "ename": "SyntaxError",
     "evalue": "invalid syntax (<ipython-input-56-1e9236fa937f>, line 9)",
     "output_type": "error",
     "traceback": [
      "\u001b[1;36m  File \u001b[1;32m\"<ipython-input-56-1e9236fa937f>\"\u001b[1;36m, line \u001b[1;32m9\u001b[0m\n\u001b[1;33m    data$cov[data$cov < 0.5] <- 0\u001b[0m\n\u001b[1;37m        ^\u001b[0m\n\u001b[1;31mSyntaxError\u001b[0m\u001b[1;31m:\u001b[0m invalid syntax\n"
     ]
    }
   ],
   "source": [
    "#Calculate percentage of WGS of Salmonella strain that carry each phage\n",
    "%%R\n",
    "\n",
    "library(plyr)\n",
    "library(reshape2)\n",
    "library(reshape)\n",
    "data=read.csv(\"coverage.csv\",header=T,check.names = F)\n",
    "\n",
    "data$cov[data$cov < 0.5] <- 0\n",
    "data$cov[data$cov >= 0.5] <- 1\n",
    "samples_count <- count(data, c('seq','strain'))\n",
    "\n",
    "cov_count=aggregate(cov~seq+strain, data, sum)\n",
    "\n",
    "merged=merge(samples_count, cov_count, all.x = TRUE)\n",
    "merged$percentage=merged$cov*100/merged$freq\n",
    "casted=cast(merged, seq~strain,value=\"percentage\")\n",
    "write.csv(casted,\"new calculation.csv\")"
   ]
  },
  {
   "cell_type": "code",
   "execution_count": null,
   "metadata": {},
   "outputs": [],
   "source": []
  }
 ],
 "metadata": {
  "kernelspec": {
   "display_name": "Python 3",
   "language": "python",
   "name": "python3"
  },
  "language_info": {
   "codemirror_mode": {
    "name": "ipython",
    "version": 3
   },
   "file_extension": ".py",
   "mimetype": "text/x-python",
   "name": "python",
   "nbconvert_exporter": "python",
   "pygments_lexer": "ipython3",
   "version": "3.8.3"
  }
 },
 "nbformat": 4,
 "nbformat_minor": 2
}
